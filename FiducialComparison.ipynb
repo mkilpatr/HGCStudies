{
 "cells": [
  {
   "cell_type": "code",
   "execution_count": 1,
   "id": "b131633c",
   "metadata": {},
   "outputs": [
    {
     "name": "stdout",
     "output_type": "stream",
     "text": [
      "/Users/Matthew/Documents/SchoolWork/physics/GradNotes/ParticlePhysics/PostdocResearch/HGC/EstToolsSUSY/HGCStudies\n"
     ]
    }
   ],
   "source": [
    "import os\n",
    "workDir = os.getcwd()\n",
    "user = 'mkilpatr' #CERN user ID\n",
    "institution = 'UCSB' #UCSB\n",
    "print(workDir)"
   ]
  },
  {
   "cell_type": "code",
   "execution_count": 2,
   "id": "b7bc9a7b",
   "metadata": {},
   "outputs": [
    {
     "name": "stdout",
     "output_type": "stream",
     "text": [
      "FILEPATHS MAY BE WRONG!! CANNOT FIND /Users/Matthew/Documents/SchoolWork/physics/GradNotes/ParticlePhysics/PostdocResearch/HGC/EstToolsSUSY/HGCStudies/Fiducials/pcbfiducialtrialrun.xls\n"
     ]
    }
   ],
   "source": [
    "%run GetExcel.ipynb\n",
    "\n",
    "#The sensor file can contain the fiducials of the sensor, but can also have the component heights\n",
    "#Methods can run either way!\n",
    "\n",
    "sensorfile = workDir + '/Fiducials/sensorfiducialtrialrun.xls'\n",
    "pcbfile = workDir + '/Fiducials/pcbfiducialtrialrun.xls'\n",
    "fiducialfile = workDir + '/Fiducials/GantryTrayFiducialData.xls'\n",
    "sensorfile = workDir + '/Fiducials/moduleHeights.xls'\n",
    "\n",
    "sensor = GetExcel(sensorfile, True, [])\n",
    "sensor.read()\n",
    "#print(sensor.df)\n",
    "\n",
    "fiducial = GetExcel(fiducialfile, True, [])\n",
    "fiducial.read()\n",
    "#print(fiducial.df)\n",
    "\n",
    "pcb = GetExcel(pcbfile, True, [])\n",
    "pcb.read()"
   ]
  },
  {
   "cell_type": "code",
   "execution_count": 3,
   "id": "c93dd7a0",
   "metadata": {},
   "outputs": [],
   "source": [
    "%run ReadDataframe.ipynb\n",
    "\n",
    "if sensor.exists:\n",
    "    senDF = ReadDataframe(sensor.df)\n",
    "    senDF.readComponentFiducials()\n",
    "    senDF.readComponentHeights()\n",
    "\n",
    "if fiducial.exists:\n",
    "    fidDF = ReadDataframe(fiducial.df)\n",
    "    fidDF.readTrayFiducials()\n",
    "\n",
    "if pcb.exists:\n",
    "    pcbDF = ReadDataframe(pcb.df)\n",
    "    pcbDF.readComponentFiducials()\n",
    "    pcbDF.readComponentHeights()"
   ]
  },
  {
   "cell_type": "code",
   "execution_count": 7,
   "id": "a31fbdbd",
   "metadata": {},
   "outputs": [
    {
     "name": "stdout",
     "output_type": "stream",
     "text": [
      "\u001b[30mThe module/component in P1 have completed QC!\n",
      "Rotation--> Left Fiducial: 90.697 degrees, Right Fiducial: 90.695 degrees\n",
      "The angle of the sensor in position P1 is \u001b[33mYELLOW\u001b[30m. \n",
      "Placement in millimeters--> (x,y) = (0.117, -0.096) mm\n",
      "The placement of the sensor in position P1 is \u001b[31mRED\u001b[30m. \n",
      "Height in millimeters--> 10.390 + (0.102) - (0.115) mm\n",
      "The mean heights of the module in position P1 are \u001b[31mRED\u001b[30m. \n",
      "The minimum height of the module in position P1 is \u001b[31mRED\u001b[30m. \n",
      "The maximum height of the module in position P1 is \u001b[31mRED\u001b[30m. \n",
      "\n",
      "The FINAL rating of the module in position P1 is \u001b[31mRED\u001b[30m.\n",
      "\n"
     ]
    }
   ],
   "source": [
    "%run QualityControl.ipynb\n",
    "\n",
    "sensorP1 = QualityControl(fidDF, senDF, 'P1')\n",
    "if len(senDF.pointsP1): sensorP1.runTransform()\n",
    "if len(senDF.heights): sensorP1.runHeights()\n",
    "sensorP1.rating()\n",
    "print(sensorP1)\n",
    "\n",
    "sensorP2 = QualityControl(fidDF, senDF, 'P2')\n",
    "if len(senDF.pointsP2): sensorP2.runTransform()\n",
    "if len(senDF.heights): sensorP2.runHeights()\n",
    "sensorP2.rating()\n",
    "    \n",
    "if pcb.exists:\n",
    "    pcbP1 = QualityControl(fidDF, pcbDF, 'P1')\n",
    "    if len(pcbDF.pointsP1): pcbP1.runTransform()\n",
    "    if len(pcbDF.heights): pcbP1.runHeights()\n",
    "    pcbP1.rating()\n",
    "\n",
    "    pcbP2 = QualityControl(fidDF, pcbDF, 'P2')\n",
    "    if len(pcbDF.pointsP2): pcbP2.runTransform()\n",
    "    if len(pcbDF.heights): pcbP2.runHeights()\n",
    "    pcbP2.rating()"
   ]
  },
  {
   "cell_type": "code",
   "execution_count": 6,
   "id": "fc917f93",
   "metadata": {},
   "outputs": [
    {
     "name": "stdout",
     "output_type": "stream",
     "text": [
      "Saving UPLOAD XML file to  /Users/Matthew/Documents/SchoolWork/physics/GradNotes/ParticlePhysics/PostdocResearch/HGC/EstToolsSUSY/HGCStudies/Fiducials/moduleHeights_upload.xml\n"
     ]
    },
    {
     "ename": "ExpatError",
     "evalue": "not well-formed (invalid token): line 1, column 438",
     "output_type": "error",
     "traceback": [
      "\u001b[0;31m---------------------------------------------------------------------------\u001b[0m",
      "\u001b[0;31mExpatError\u001b[0m                                Traceback (most recent call last)",
      "\u001b[0;32m/var/folders/r6/6y5ry5195251q161q2_g7z8h0000gp/T/ipykernel_19335/3582163029.py\u001b[0m in \u001b[0;36m<module>\u001b[0;34m\u001b[0m\n\u001b[1;32m      5\u001b[0m     \u001b[0msaveDir\u001b[0m \u001b[0;34m=\u001b[0m \u001b[0mos\u001b[0m\u001b[0;34m.\u001b[0m\u001b[0mpath\u001b[0m\u001b[0;34m.\u001b[0m\u001b[0mdirname\u001b[0m\u001b[0;34m(\u001b[0m\u001b[0msensorfile\u001b[0m\u001b[0;34m)\u001b[0m\u001b[0;34m\u001b[0m\u001b[0;34m\u001b[0m\u001b[0m\n\u001b[1;32m      6\u001b[0m     \u001b[0msensorP1XML\u001b[0m \u001b[0;34m=\u001b[0m \u001b[0mCreateXML\u001b[0m\u001b[0;34m(\u001b[0m\u001b[0msensorP1\u001b[0m\u001b[0;34m,\u001b[0m \u001b[0muser\u001b[0m\u001b[0;34m,\u001b[0m \u001b[0minstitution\u001b[0m\u001b[0;34m)\u001b[0m\u001b[0;34m\u001b[0m\u001b[0;34m\u001b[0m\u001b[0m\n\u001b[0;32m----> 7\u001b[0;31m     \u001b[0msensorP1XML\u001b[0m\u001b[0;34m.\u001b[0m\u001b[0msave\u001b[0m\u001b[0;34m(\u001b[0m\u001b[0msaveDir\u001b[0m\u001b[0;34m,\u001b[0m \u001b[0mname\u001b[0m\u001b[0;34m)\u001b[0m\u001b[0;34m\u001b[0m\u001b[0;34m\u001b[0m\u001b[0m\n\u001b[0m\u001b[1;32m      8\u001b[0m \u001b[0;34m\u001b[0m\u001b[0m\n\u001b[1;32m      9\u001b[0m \u001b[0;32mif\u001b[0m \u001b[0mlen\u001b[0m\u001b[0;34m(\u001b[0m\u001b[0msenDF\u001b[0m\u001b[0;34m.\u001b[0m\u001b[0mpointsP2\u001b[0m\u001b[0;34m)\u001b[0m\u001b[0;34m:\u001b[0m\u001b[0;34m\u001b[0m\u001b[0;34m\u001b[0m\u001b[0m\n",
      "\u001b[0;32m/var/folders/r6/6y5ry5195251q161q2_g7z8h0000gp/T/ipykernel_19335/3144000692.py\u001b[0m in \u001b[0;36msave\u001b[0;34m(self, saveDir, name)\u001b[0m\n\u001b[1;32m    141\u001b[0m         \u001b[0mprint\u001b[0m\u001b[0;34m(\u001b[0m\u001b[0;34m\"Saving UPLOAD XML file to \"\u001b[0m\u001b[0;34m,\u001b[0m \u001b[0mfiledir\u001b[0m\u001b[0;34m+\u001b[0m\u001b[0;34m'/'\u001b[0m\u001b[0;34m+\u001b[0m\u001b[0mfilename\u001b[0m\u001b[0;34m)\u001b[0m\u001b[0;34m\u001b[0m\u001b[0;34m\u001b[0m\u001b[0m\n\u001b[1;32m    142\u001b[0m         \u001b[0mroot\u001b[0m \u001b[0;34m=\u001b[0m \u001b[0mxml_tree\u001b[0m\u001b[0;34m.\u001b[0m\u001b[0mgetroot\u001b[0m\u001b[0;34m(\u001b[0m\u001b[0;34m)\u001b[0m\u001b[0;34m\u001b[0m\u001b[0;34m\u001b[0m\u001b[0m\n\u001b[0;32m--> 143\u001b[0;31m         \u001b[0mxmlstr\u001b[0m \u001b[0;34m=\u001b[0m \u001b[0mminidom\u001b[0m\u001b[0;34m.\u001b[0m\u001b[0mparseString\u001b[0m\u001b[0;34m(\u001b[0m\u001b[0mtostring\u001b[0m\u001b[0;34m(\u001b[0m\u001b[0mroot\u001b[0m\u001b[0;34m)\u001b[0m\u001b[0;34m)\u001b[0m\u001b[0;34m.\u001b[0m\u001b[0mtoprettyxml\u001b[0m\u001b[0;34m(\u001b[0m\u001b[0mindent\u001b[0m \u001b[0;34m=\u001b[0m \u001b[0;34m'    '\u001b[0m\u001b[0;34m)\u001b[0m  \u001b[0;31m#tostring imported from xml.etree.ElementTree\u001b[0m\u001b[0;34m\u001b[0m\u001b[0;34m\u001b[0m\u001b[0m\n\u001b[0m\u001b[1;32m    144\u001b[0m         \u001b[0mxmlstr\u001b[0m \u001b[0;34m=\u001b[0m \u001b[0mxmlstr\u001b[0m\u001b[0;34m.\u001b[0m\u001b[0mreplace\u001b[0m\u001b[0;34m(\u001b[0m\u001b[0;34m\"version=\\\"1.0\\\" \"\u001b[0m\u001b[0;34m,\u001b[0m \u001b[0;34m\"version=\\\"1.0\\\" encoding=\\\"UTF-8\\\" standalone=\\\"yes\\\"\"\u001b[0m\u001b[0;34m)\u001b[0m\u001b[0;34m\u001b[0m\u001b[0;34m\u001b[0m\u001b[0m\n\u001b[1;32m    145\u001b[0m         \u001b[0;32mwith\u001b[0m \u001b[0mopen\u001b[0m\u001b[0;34m(\u001b[0m\u001b[0mfiledir\u001b[0m\u001b[0;34m+\u001b[0m\u001b[0;34m'/'\u001b[0m\u001b[0;34m+\u001b[0m\u001b[0mfilename\u001b[0m\u001b[0;34m,\u001b[0m \u001b[0;34m'w'\u001b[0m\u001b[0;34m)\u001b[0m \u001b[0;32mas\u001b[0m \u001b[0mf\u001b[0m\u001b[0;34m:\u001b[0m\u001b[0;34m\u001b[0m\u001b[0;34m\u001b[0m\u001b[0m\n",
      "\u001b[0;32m/usr/local/Cellar/python@3.9/3.9.9/Frameworks/Python.framework/Versions/3.9/lib/python3.9/xml/dom/minidom.py\u001b[0m in \u001b[0;36mparseString\u001b[0;34m(string, parser)\u001b[0m\n\u001b[1;32m   1996\u001b[0m     \u001b[0;32mif\u001b[0m \u001b[0mparser\u001b[0m \u001b[0;32mis\u001b[0m \u001b[0;32mNone\u001b[0m\u001b[0;34m:\u001b[0m\u001b[0;34m\u001b[0m\u001b[0;34m\u001b[0m\u001b[0m\n\u001b[1;32m   1997\u001b[0m         \u001b[0;32mfrom\u001b[0m \u001b[0mxml\u001b[0m\u001b[0;34m.\u001b[0m\u001b[0mdom\u001b[0m \u001b[0;32mimport\u001b[0m \u001b[0mexpatbuilder\u001b[0m\u001b[0;34m\u001b[0m\u001b[0;34m\u001b[0m\u001b[0m\n\u001b[0;32m-> 1998\u001b[0;31m         \u001b[0;32mreturn\u001b[0m \u001b[0mexpatbuilder\u001b[0m\u001b[0;34m.\u001b[0m\u001b[0mparseString\u001b[0m\u001b[0;34m(\u001b[0m\u001b[0mstring\u001b[0m\u001b[0;34m)\u001b[0m\u001b[0;34m\u001b[0m\u001b[0;34m\u001b[0m\u001b[0m\n\u001b[0m\u001b[1;32m   1999\u001b[0m     \u001b[0;32melse\u001b[0m\u001b[0;34m:\u001b[0m\u001b[0;34m\u001b[0m\u001b[0;34m\u001b[0m\u001b[0m\n\u001b[1;32m   2000\u001b[0m         \u001b[0;32mfrom\u001b[0m \u001b[0mxml\u001b[0m\u001b[0;34m.\u001b[0m\u001b[0mdom\u001b[0m \u001b[0;32mimport\u001b[0m \u001b[0mpulldom\u001b[0m\u001b[0;34m\u001b[0m\u001b[0;34m\u001b[0m\u001b[0m\n",
      "\u001b[0;32m/usr/local/Cellar/python@3.9/3.9.9/Frameworks/Python.framework/Versions/3.9/lib/python3.9/xml/dom/expatbuilder.py\u001b[0m in \u001b[0;36mparseString\u001b[0;34m(string, namespaces)\u001b[0m\n\u001b[1;32m    923\u001b[0m     \u001b[0;32melse\u001b[0m\u001b[0;34m:\u001b[0m\u001b[0;34m\u001b[0m\u001b[0;34m\u001b[0m\u001b[0m\n\u001b[1;32m    924\u001b[0m         \u001b[0mbuilder\u001b[0m \u001b[0;34m=\u001b[0m \u001b[0mExpatBuilder\u001b[0m\u001b[0;34m(\u001b[0m\u001b[0;34m)\u001b[0m\u001b[0;34m\u001b[0m\u001b[0;34m\u001b[0m\u001b[0m\n\u001b[0;32m--> 925\u001b[0;31m     \u001b[0;32mreturn\u001b[0m \u001b[0mbuilder\u001b[0m\u001b[0;34m.\u001b[0m\u001b[0mparseString\u001b[0m\u001b[0;34m(\u001b[0m\u001b[0mstring\u001b[0m\u001b[0;34m)\u001b[0m\u001b[0;34m\u001b[0m\u001b[0;34m\u001b[0m\u001b[0m\n\u001b[0m\u001b[1;32m    926\u001b[0m \u001b[0;34m\u001b[0m\u001b[0m\n\u001b[1;32m    927\u001b[0m \u001b[0;34m\u001b[0m\u001b[0m\n",
      "\u001b[0;32m/usr/local/Cellar/python@3.9/3.9.9/Frameworks/Python.framework/Versions/3.9/lib/python3.9/xml/dom/expatbuilder.py\u001b[0m in \u001b[0;36mparseString\u001b[0;34m(self, string)\u001b[0m\n\u001b[1;32m    221\u001b[0m         \u001b[0mparser\u001b[0m \u001b[0;34m=\u001b[0m \u001b[0mself\u001b[0m\u001b[0;34m.\u001b[0m\u001b[0mgetParser\u001b[0m\u001b[0;34m(\u001b[0m\u001b[0;34m)\u001b[0m\u001b[0;34m\u001b[0m\u001b[0;34m\u001b[0m\u001b[0m\n\u001b[1;32m    222\u001b[0m         \u001b[0;32mtry\u001b[0m\u001b[0;34m:\u001b[0m\u001b[0;34m\u001b[0m\u001b[0;34m\u001b[0m\u001b[0m\n\u001b[0;32m--> 223\u001b[0;31m             \u001b[0mparser\u001b[0m\u001b[0;34m.\u001b[0m\u001b[0mParse\u001b[0m\u001b[0;34m(\u001b[0m\u001b[0mstring\u001b[0m\u001b[0;34m,\u001b[0m \u001b[0;32mTrue\u001b[0m\u001b[0;34m)\u001b[0m\u001b[0;34m\u001b[0m\u001b[0;34m\u001b[0m\u001b[0m\n\u001b[0m\u001b[1;32m    224\u001b[0m             \u001b[0mself\u001b[0m\u001b[0;34m.\u001b[0m\u001b[0m_setup_subset\u001b[0m\u001b[0;34m(\u001b[0m\u001b[0mstring\u001b[0m\u001b[0;34m)\u001b[0m\u001b[0;34m\u001b[0m\u001b[0;34m\u001b[0m\u001b[0m\n\u001b[1;32m    225\u001b[0m         \u001b[0;32mexcept\u001b[0m \u001b[0mParseEscape\u001b[0m\u001b[0;34m:\u001b[0m\u001b[0;34m\u001b[0m\u001b[0;34m\u001b[0m\u001b[0m\n",
      "\u001b[0;31mExpatError\u001b[0m: not well-formed (invalid token): line 1, column 438"
     ]
    }
   ],
   "source": [
    "%run CreateXML.ipynb\n",
    "\n",
    "if len(senDF.pointsP1):\n",
    "    name = os.path.splitext(os.path.basename(sensorfile))[0] + '.xml'\n",
    "    saveDir = os.path.dirname(sensorfile)\n",
    "    sensorP1XML = CreateXML(sensorP1, user, institution)\n",
    "    sensorP1XML.save(saveDir, name)\n",
    "\n",
    "if len(senDF.pointsP2):\n",
    "    sensorP2XML = CreateXML(sensorP2, user, institution)\n",
    "    sensorP2XML.save(saveDir, name)\n",
    "    \n",
    "if pcb.exists:\n",
    "    if len(pcbDF.pointsP1):\n",
    "        name = os.path.splitext(os.path.basename(pcbfile))[0] + '.xml'\n",
    "        saveDir = os.path.dirname(pcbfile)\n",
    "        pcbP1XML = CreateXML(pcbP1, user, institution)\n",
    "        pcbP1XML.save(saveDir, name)\n",
    "    \n",
    "    if len(pcbDF.pointsP2):\n",
    "        pcbP2XML = CreateXML(pcbP2, user, institution)\n",
    "        pcbP2XML.save(saveDir, name)"
   ]
  },
  {
   "cell_type": "code",
   "execution_count": null,
   "id": "887398e6",
   "metadata": {},
   "outputs": [],
   "source": []
  },
  {
   "cell_type": "code",
   "execution_count": null,
   "id": "a5de0a3b",
   "metadata": {},
   "outputs": [],
   "source": []
  }
 ],
 "metadata": {
  "kernelspec": {
   "display_name": "Python 3 (ipykernel)",
   "language": "python",
   "name": "python3"
  },
  "language_info": {
   "codemirror_mode": {
    "name": "ipython",
    "version": 3
   },
   "file_extension": ".py",
   "mimetype": "text/x-python",
   "name": "python",
   "nbconvert_exporter": "python",
   "pygments_lexer": "ipython3",
   "version": "3.9.9"
  }
 },
 "nbformat": 4,
 "nbformat_minor": 5
}
