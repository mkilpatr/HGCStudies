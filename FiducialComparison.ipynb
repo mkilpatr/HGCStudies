{
 "cells": [
  {
   "cell_type": "code",
   "execution_count": 1,
   "id": "b131633c",
   "metadata": {},
   "outputs": [],
   "source": [
    "import os\n",
    "workDir = os.getcwd()\n",
    "user = 'mkilpatr'"
   ]
  },
  {
   "cell_type": "code",
   "execution_count": 2,
   "id": "b7bc9a7b",
   "metadata": {},
   "outputs": [
    {
     "name": "stdout",
     "output_type": "stream",
     "text": [
      "FILEPATHS MAY BE WRONG!! CANNOT FIND /Users/Matthew/Documents/SchoolWork/physics/GradNotes/ParticlePhysics/PostdocResearch/HGC/EstToolsSUSY/HGCStudies/Fiducials/pcbfiducialtrialrun.xls\n"
     ]
    }
   ],
   "source": [
    "%run GetExcel.ipynb\n",
    "\n",
    "sensorfile = workDir + '/Fiducials/sensorfiducialtrialrun.xls'\n",
    "pcbfile = workDir + '/Fiducials/pcbfiducialtrialrun.xls'\n",
    "fiducialfile = workDir + '/Fiducials/GantryTrayFiducialData.xls'\n",
    "\n",
    "sensor = GetExcel(sensorfile, True, [])\n",
    "sensor.read()\n",
    "\n",
    "fiducial = GetExcel(fiducialfile, True, [])\n",
    "fiducial.read()\n",
    "\n",
    "pcb = GetExcel(pcbfile, True, [])\n",
    "pcb.read()"
   ]
  },
  {
   "cell_type": "code",
   "execution_count": 3,
   "id": "c93dd7a0",
   "metadata": {},
   "outputs": [],
   "source": [
    "%run ReadDataframe.ipynb\n",
    "\n",
    "if sensor.exists:\n",
    "    senDF = ReadDataframe(sensor.df)\n",
    "    sPoints = senDF.readComponentFiducials()\n",
    "\n",
    "if fiducial.exists:\n",
    "    fidDF = ReadDataframe(fiducial.df)\n",
    "    trayPoints, P1, P2 = fidDF.readTrayFiducials()\n",
    "\n",
    "if pcb.exists:\n",
    "    pcbDF = ReadDataframe(pcb.df)\n",
    "    pPoints = readComponentFiducials()"
   ]
  },
  {
   "cell_type": "code",
   "execution_count": 9,
   "id": "ca47511f",
   "metadata": {},
   "outputs": [
    {
     "name": "stdout",
     "output_type": "stream",
     "text": [
      "angle radians: [], angle degrees: [], center: [], 0.0\n",
      "angle radians: [-1.558637083412562, -1.5586701927493762], angle degrees: [-89.30332667211985, -89.30522369738179], center: [ 0.11666175 -0.09605388], 0.15111688357032046\n"
     ]
    }
   ],
   "source": [
    "%run TransformCoordinates.ipynb\n",
    "\n",
    "sensorP1 = TransformCoordinates(trayPoints, P1, sPoints)\n",
    "print('angle radians: {0}, angle degrees: {1}, center: {2}, {3}'.format(sensorP1.rad, sensorP1.deg, sensorP1.center, sensorP1.centerPosition))\n",
    "sensorP1.RunTransform()\n",
    "print('angle radians: {0}, angle degrees: {1}, center: {2}, {3}'.format(sensorP1.rad, sensorP1.deg, sensorP1.center, sensorP1.centerPosition))\n",
    "\n",
    "sensorP2 = TransformCoordinates(trayPoints, P2, sPoints)\n",
    "sensorP2.RunTransform()\n",
    "\n",
    "if pcb.exists:\n",
    "    pcbP1 = TransformCoordinates(trayPoints, P1, pPoints)\n",
    "    pcbP1.RunTransform()\n",
    "\n",
    "    pcbP2 = TransformCoordinates(trayPoints, P2, pPoints)\n",
    "    pcbP2.RunTransform()"
   ]
  },
  {
   "cell_type": "code",
   "execution_count": null,
   "id": "2736b4f1",
   "metadata": {},
   "outputs": [],
   "source": [
    "#Classify the placement of each component\n",
    "degrees = [89.5, 89.0, 88.0, 0.]\n",
    "Classify = ['GOOD', \"OK\", \"BAD\", \"VERY BAD\"]\n",
    "centers = [0.025, 0.050, 0.100, 5.0]\n",
    "place = ['P1', 'P2']\n",
    "\n",
    "angleSensorNotes = {'P1': '', 'P2': ''}\n",
    "anglePCBNotes = {'P1': '', 'P2': ''}\n",
    "centerSensorNotes = {'P1': '', 'P2': ''}\n",
    "centerPCBNotes = {'P1': '', 'P2': ''}\n",
    "for p in place:\n",
    "    for i, d in enumerate(degrees):\n",
    "        if abs(degSensor[p][0]) > degrees[i] or abs(degSensor[p][1]) > degrees[i]:\n",
    "            angleSensorNotes[p] = \"The angle of the sensor is \" + Classify[i] + \" in position \" + p\n",
    "        \n",
    "        if centerSensor[p] < centers[i]:\n",
    "            centerSensorNotes[p] = \"The placement of the sensor is \" + Classify[i] + \" in position \" + p\n",
    "        if readPCB:\n",
    "            if (abs(degPCB[p][0]) > degrees[i] or abs(degPCB[p][1]) > degrees[i]):\n",
    "                anglePCBNotes[p] = \"The angle of the PCB is \" + Classify[i] + ' in position ' + p\n",
    "            if centerSensor[p] < centers[i]:\n",
    "                centerPCBNotes[p] = \"The placement of the PCB is \" + Classify[i] + \" in position \" + p\n",
    "                \n",
    "    if 'BAD' in angleSensorNotes[p]:\n",
    "        print(angleSensorNotes[p])\n",
    "    if 'BAD' in anglePCBNotes[p]:\n",
    "        print(anglePCBNotes[p])"
   ]
  },
  {
   "cell_type": "code",
   "execution_count": null,
   "id": "e4c781d6",
   "metadata": {},
   "outputs": [],
   "source": []
  },
  {
   "cell_type": "code",
   "execution_count": null,
   "id": "38256da6",
   "metadata": {},
   "outputs": [],
   "source": []
  },
  {
   "cell_type": "code",
   "execution_count": null,
   "id": "f7fdc955",
   "metadata": {},
   "outputs": [],
   "source": []
  }
 ],
 "metadata": {
  "kernelspec": {
   "display_name": "Python 3 (ipykernel)",
   "language": "python",
   "name": "python3"
  },
  "language_info": {
   "codemirror_mode": {
    "name": "ipython",
    "version": 3
   },
   "file_extension": ".py",
   "mimetype": "text/x-python",
   "name": "python",
   "nbconvert_exporter": "python",
   "pygments_lexer": "ipython3",
   "version": "3.9.9"
  }
 },
 "nbformat": 4,
 "nbformat_minor": 5
}
