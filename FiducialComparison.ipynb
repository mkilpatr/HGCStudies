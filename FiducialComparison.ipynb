{
 "cells": [
  {
   "cell_type": "code",
   "execution_count": 1,
   "id": "b131633c",
   "metadata": {},
   "outputs": [
    {
     "name": "stdout",
     "output_type": "stream",
     "text": [
      "/Users/Matthew/Documents/SchoolWork/physics/GradNotes/ParticlePhysics/PostdocResearch/HGC/EstToolsSUSY/HGCStudies\n"
     ]
    }
   ],
   "source": [
    "import os\n",
    "workDir = os.getcwd()\n",
    "user = 'mkilpatr'\n",
    "institution = 'UCSB'\n",
    "print(workDir)"
   ]
  },
  {
   "cell_type": "code",
   "execution_count": 2,
   "id": "b7bc9a7b",
   "metadata": {},
   "outputs": [
    {
     "name": "stdout",
     "output_type": "stream",
     "text": [
      "FILEPATHS MAY BE WRONG!! CANNOT FIND /Users/Matthew/Documents/SchoolWork/physics/GradNotes/ParticlePhysics/PostdocResearch/HGC/EstToolsSUSY/HGCStudies/Fiducials/pcbfiducialtrialrun.xls\n"
     ]
    }
   ],
   "source": [
    "%run GetExcel.ipynb\n",
    "\n",
    "#The sensor file can contain the fiducials of the sensor, but can also have the component heights\n",
    "#Methods can run either way!\n",
    "\n",
    "sensorfile = workDir + '/Fiducials/sensorfiducialtrialrun.xls'\n",
    "pcbfile = workDir + '/Fiducials/pcbfiducialtrialrun.xls'\n",
    "fiducialfile = workDir + '/Fiducials/GantryTrayFiducialData.xls'\n",
    "sensorfile = workDir + '/Fiducials/moduleHeights.xls'\n",
    "\n",
    "sensor = GetExcel(sensorfile, True, [])\n",
    "sensor.read()\n",
    "\n",
    "fiducial = GetExcel(fiducialfile, True, [])\n",
    "fiducial.read()\n",
    "\n",
    "pcb = GetExcel(pcbfile, True, [])\n",
    "pcb.read()"
   ]
  },
  {
   "cell_type": "code",
   "execution_count": 3,
   "id": "c93dd7a0",
   "metadata": {},
   "outputs": [],
   "source": [
    "%run ReadDataframe.ipynb\n",
    "\n",
    "if sensor.exists:\n",
    "    senDF = ReadDataframe(sensor.df)\n",
    "    senDF.readComponentFiducials()\n",
    "    senDF.readComponentHeights()\n",
    "\n",
    "if fiducial.exists:\n",
    "    fidDF = ReadDataframe(fiducial.df)\n",
    "    fidDF.readTrayFiducials()\n",
    "\n",
    "if pcb.exists:\n",
    "    pcbDF = ReadDataframe(pcb.df)\n",
    "    pcbDF.readComponentFiducials()\n",
    "    pcbDF.readComponentHeights()"
   ]
  },
  {
   "cell_type": "code",
   "execution_count": 4,
   "id": "a31fbdbd",
   "metadata": {},
   "outputs": [
    {
     "name": "stdout",
     "output_type": "stream",
     "text": [
      "The components in position P1 has failed the QC.\n",
      "The mean heights of the module are RED in position P1. The minimum height of the module is RED in position P1. The angle of the sensor is YELLOW in position P1. The angle of the sensor is ORANGE in position P1. The angle of the sensor is RED in position P1. The placement of the sensor is RED in position P1. \n",
      "The FINAL rating of the module in position P1 is RED.\n",
      "\n"
     ]
    }
   ],
   "source": [
    "%run QualityControl.ipynb\n",
    "\n",
    "if not pcb.exists:\n",
    "    if len(senDF.pointsP1):\n",
    "        sensorP1 = QualityControl(fidDF.trayPoints, fidDF.P1, senDF.pointsP1, 'P1', senDF.heights)\n",
    "        sensorP1.RunTransform()\n",
    "        if len(senDF.heights): sensorP1.RunHeights()\n",
    "        sensorP1.Rating()\n",
    "\n",
    "    if len(senDF.pointsP2):\n",
    "        sensorP2 = QualityControl(fidDF.trayPoints, fidDF.P2, senDF.pointsP2, 'P2', [])\n",
    "        sensorP2.RunTransform()\n",
    "        if len(senDF.heights): sensorP2.RunHeights()\n",
    "        sensorP2.Rating()\n",
    "if pcb.exists:\n",
    "    if len(pcbDF.pointsP1):\n",
    "        pcbP1 = QualityControl(fidDF.trayPoints, fidDF.P1, pcbDF.pointsP1, 'P1', [])\n",
    "        pcbP1.RunTransform()\n",
    "        if len(pcbDF.heights): pcbP1.RunHeights()\n",
    "        pcbP1.Rating()\n",
    "\n",
    "    if len(pcbDF.pointsP2):\n",
    "        pcbP2 = QualityControl(fidDF.trayPoints, fidDF.P2, pcbDF.pointsP2, 'P2', [])\n",
    "        pcbP2.RunTransform()\n",
    "        if len(pcbDF.heights): pcbP2.RunHeights()\n",
    "        pcbP2.Rating()"
   ]
  },
  {
   "cell_type": "code",
   "execution_count": 5,
   "id": "b5ca74b9",
   "metadata": {},
   "outputs": [
    {
     "name": "stdout",
     "output_type": "stream",
     "text": [
      "Saving UPLOAD XML file to  /Users/Matthew/Documents/SchoolWork/physics/GradNotes/ParticlePhysics/PostdocResearch/HGC/EstToolsSUSY/HGCStudies/Fiducials/moduleHeights_upload.xml\n"
     ]
    }
   ],
   "source": [
    "%run CreateXML.ipynb\n",
    "\n",
    "if sensorP1.finalRating != '':\n",
    "    name = os.path.splitext(os.path.basename(sensorfile))[0] + '.xml'\n",
    "    saveDir = os.path.dirname(sensorfile)\n",
    "    sensorP1XML = CreateXML(sensorP1.center, sensorP1.deg, sensorP1.notes, user, institution)\n",
    "    sensorP1XML.save(saveDir, name)"
   ]
  },
  {
   "cell_type": "code",
   "execution_count": null,
   "id": "59d88fa4",
   "metadata": {},
   "outputs": [],
   "source": []
  }
 ],
 "metadata": {
  "kernelspec": {
   "display_name": "Python 3 (ipykernel)",
   "language": "python",
   "name": "python3"
  },
  "language_info": {
   "codemirror_mode": {
    "name": "ipython",
    "version": 3
   },
   "file_extension": ".py",
   "mimetype": "text/x-python",
   "name": "python",
   "nbconvert_exporter": "python",
   "pygments_lexer": "ipython3",
   "version": "3.9.9"
  }
 },
 "nbformat": 4,
 "nbformat_minor": 5
}
