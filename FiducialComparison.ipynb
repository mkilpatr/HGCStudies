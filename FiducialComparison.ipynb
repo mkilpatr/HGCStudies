{
 "cells": [
  {
   "cell_type": "code",
   "execution_count": 1,
   "id": "b131633c",
   "metadata": {},
   "outputs": [
    {
     "name": "stdout",
     "output_type": "stream",
     "text": [
      "/Users/Matthew/Documents/SchoolWork/physics/GradNotes/ParticlePhysics/PostdocResearch/HGC/EstToolsSUSY/HGCStudies\n"
     ]
    }
   ],
   "source": [
    "import os\n",
    "workDir = os.getcwd()\n",
    "user = 'mkilpatr'\n",
    "print(workDir)"
   ]
  },
  {
   "cell_type": "code",
   "execution_count": 2,
   "id": "b7bc9a7b",
   "metadata": {},
   "outputs": [
    {
     "name": "stdout",
     "output_type": "stream",
     "text": [
      "FILEPATHS MAY BE WRONG!! CANNOT FIND /Users/Matthew/Documents/SchoolWork/physics/GradNotes/ParticlePhysics/PostdocResearch/HGC/EstToolsSUSY/HGCStudies/Fiducials/pcbfiducialtrialrun.xls\n"
     ]
    }
   ],
   "source": [
    "%run GetExcel.ipynb\n",
    "\n",
    "sensorfile = workDir + '/Fiducials/sensorfiducialtrialrun.xls'\n",
    "pcbfile = workDir + '/Fiducials/pcbfiducialtrialrun.xls'\n",
    "fiducialfile = workDir + '/Fiducials/GantryTrayFiducialData.xls'\n",
    "\n",
    "sensor = GetExcel(sensorfile, True, [])\n",
    "sensor.read()\n",
    "\n",
    "fiducial = GetExcel(fiducialfile, True, [])\n",
    "fiducial.read()\n",
    "\n",
    "pcb = GetExcel(pcbfile, True, [])\n",
    "pcb.read()"
   ]
  },
  {
   "cell_type": "code",
   "execution_count": 3,
   "id": "c93dd7a0",
   "metadata": {},
   "outputs": [],
   "source": [
    "%run ReadDataframe.ipynb\n",
    "\n",
    "if sensor.exists:\n",
    "    senDF = ReadDataframe(sensor.df)\n",
    "    senDF.readComponentFiducials()\n",
    "\n",
    "if fiducial.exists:\n",
    "    fidDF = ReadDataframe(fiducial.df)\n",
    "    fidDF.readTrayFiducials()\n",
    "\n",
    "if pcb.exists:\n",
    "    pcbDF = ReadDataframe(pcb.df)\n",
    "    senDF.readComponentFiducials()"
   ]
  },
  {
   "cell_type": "code",
   "execution_count": 7,
   "id": "a31fbdbd",
   "metadata": {},
   "outputs": [
    {
     "name": "stdout",
     "output_type": "stream",
     "text": [
      "The angle of the sensor is BAD in position P1\n",
      "The placement of the sensor is BAD in position P1\n"
     ]
    }
   ],
   "source": [
    "%run QualityControl.ipynb\n",
    "\n",
    "if len(senDF.pointsP1):\n",
    "    sensorP1 = QualityControl(fidDF.trayPoints, fidDF.P1, senDF.pointsP1, 'P1')\n",
    "    sensorP1.RunTransform()\n",
    "    sensorP1.Rating()\n",
    "\n",
    "if len(senDF.pointsP2):\n",
    "    sensorP2 = QualityControl(fidDF.trayPoints, fidDF.P2, senDF.pointsP2, 'P2')\n",
    "    sensorP2.RunTransform()\n",
    "    sensorP2.Rating()\n",
    "\n",
    "if pcb.exists:\n",
    "    if len(pcbDF.pointsP1):\n",
    "        pcbP1 = QualityControl(fidDF.trayPoints, fidDF.P1, pcbDF.pointsP1, 'P1')\n",
    "        pcbP1.RunTransform()\n",
    "        pcbP1.Rating()\n",
    "\n",
    "    if len(pcbDF.pointsP2):\n",
    "        pcbP2 = QualityControl(fidDF.trayPoints, fidDF.P2, pcbDF.pointsP2, 'P2')\n",
    "        pcbP2.RunTransform()\n",
    "        pcbP2.Rating()"
   ]
  },
  {
   "cell_type": "code",
   "execution_count": null,
   "id": "0b0ecba1",
   "metadata": {},
   "outputs": [],
   "source": []
  }
 ],
 "metadata": {
  "kernelspec": {
   "display_name": "Python 3 (ipykernel)",
   "language": "python",
   "name": "python3"
  },
  "language_info": {
   "codemirror_mode": {
    "name": "ipython",
    "version": 3
   },
   "file_extension": ".py",
   "mimetype": "text/x-python",
   "name": "python",
   "nbconvert_exporter": "python",
   "pygments_lexer": "ipython3",
   "version": "3.9.9"
  }
 },
 "nbformat": 4,
 "nbformat_minor": 5
}
