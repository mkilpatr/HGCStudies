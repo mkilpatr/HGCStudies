{
 "cells": [
  {
   "cell_type": "code",
   "execution_count": 6,
   "id": "b131633c",
   "metadata": {},
   "outputs": [
    {
     "name": "stdout",
     "output_type": "stream",
     "text": [
      "/Users/Matthew/Documents/SchoolWork/physics/GradNotes/ParticlePhysics/PostdocResearch/HGC/EstToolsSUSY/HGCStudies\n"
     ]
    }
   ],
   "source": [
    "import os\n",
    "workDir = os.getcwd()\n",
    "user = '' #CERN user ID\n",
    "institution = '' #UCSB\n",
    "print(workDir)"
   ]
  },
  {
   "cell_type": "code",
   "execution_count": 2,
   "id": "b7bc9a7b",
   "metadata": {},
   "outputs": [
    {
     "name": "stdout",
     "output_type": "stream",
     "text": [
      "FILEPATHS MAY BE WRONG!! CANNOT FIND /Users/Matthew/Documents/SchoolWork/physics/GradNotes/ParticlePhysics/PostdocResearch/HGC/EstToolsSUSY/HGCStudies/Fiducials/pcbfiducialtrialrun.xls\n"
     ]
    }
   ],
   "source": [
    "%run GetExcel.ipynb\n",
    "\n",
    "#The sensor file can contain the fiducials of the sensor, but can also have the component heights\n",
    "#Methods can run either way!\n",
    "\n",
    "sensorfile = workDir + '/Fiducials/sensorfiducialtrialrun.xls'\n",
    "pcbfile = workDir + '/Fiducials/pcbfiducialtrialrun.xls'\n",
    "fiducialfile = workDir + '/Fiducials/GantryTrayFiducialData.xls'\n",
    "sensorfile = workDir + '/Fiducials/moduleHeights.xls'\n",
    "\n",
    "sensor = GetExcel(sensorfile, True, [])\n",
    "sensor.read()\n",
    "#print(sensor.df)\n",
    "\n",
    "fiducial = GetExcel(fiducialfile, True, [])\n",
    "fiducial.read()\n",
    "#print(fiducial.df)\n",
    "\n",
    "pcb = GetExcel(pcbfile, True, [])\n",
    "pcb.read()"
   ]
  },
  {
   "cell_type": "code",
   "execution_count": 3,
   "id": "c93dd7a0",
   "metadata": {},
   "outputs": [],
   "source": [
    "%run ReadDataframe.ipynb\n",
    "\n",
    "if sensor.exists:\n",
    "    senDF = ReadDataframe(sensor.df)\n",
    "    senDF.readComponentFiducials()\n",
    "    senDF.readComponentHeights()\n",
    "\n",
    "if fiducial.exists:\n",
    "    fidDF = ReadDataframe(fiducial.df)\n",
    "    fidDF.readTrayFiducials()\n",
    "\n",
    "if pcb.exists:\n",
    "    pcbDF = ReadDataframe(pcb.df)\n",
    "    pcbDF.readComponentFiducials()\n",
    "    pcbDF.readComponentHeights()"
   ]
  },
  {
   "cell_type": "code",
   "execution_count": 4,
   "id": "a31fbdbd",
   "metadata": {},
   "outputs": [
    {
     "name": "stdout",
     "output_type": "stream",
     "text": [
      "The components in position P1 has failed the QC.\n",
      "The mean heights of the module are RED in position P1. The minimum height of the module is RED in position P1. The angle of the sensor is GREEN in position P1. The angle of the sensor is YELLOW in position P1. The angle of the sensor is ORANGE in position P1. The angle of the sensor is RED in position P1. The placement of the sensor is RED in position P1. \n",
      "The FINAL rating of the module in position P1 is RED.\n",
      "\n",
      "The components in position P2 has failed the QC.\n",
      "The mean heights of the module are RED in position P2. The minimum height of the module is RED in position P2. \n",
      "The FINAL rating of the module in position P2 is RED.\n",
      "\n"
     ]
    }
   ],
   "source": [
    "%run QualityControl.ipynb\n",
    "\n",
    "if not pcb.exists:\n",
    "    sensorP1 = QualityControl(fidDF, senDF, 'P1')\n",
    "    if len(senDF.pointsP1): sensorP1.runTransform()\n",
    "    if len(senDF.heights): sensorP1.runHeights()\n",
    "    sensorP1.rating()\n",
    "\n",
    "\n",
    "    sensorP2 = QualityControl(fidDF, senDF, 'P2')\n",
    "    if len(senDF.pointsP2): sensorP2.runTransform()\n",
    "    if len(senDF.heights): sensorP2.runHeights()\n",
    "    sensorP2.rating()\n",
    "    \n",
    "if pcb.exists:\n",
    "    pcbP1 = QualityControl(fidDF, pcbDF, 'P1')\n",
    "    if len(pcbDF.pointsP1): pcbP1.runTransform()\n",
    "    if len(pcbDF.heights): pcbP1.runHeights()\n",
    "    pcbP1.rating()\n",
    "\n",
    "    pcbP2 = QualityControl(fidDF, pcbDF, 'P2')\n",
    "    if len(pcbDF.pointsP2): pcbP2.runTransform()\n",
    "    if len(pcbDF.heights): pcbP2.runHeights()\n",
    "    pcbP2.rating()"
   ]
  },
  {
   "cell_type": "code",
   "execution_count": 5,
   "id": "fc917f93",
   "metadata": {},
   "outputs": [
    {
     "name": "stdout",
     "output_type": "stream",
     "text": [
      "Cannot make XML file without a user or institution!\n"
     ]
    }
   ],
   "source": [
    "%run CreateXML.ipynb\n",
    "\n",
    "if len(senDF.pointsP1):\n",
    "    name = os.path.splitext(os.path.basename(sensorfile))[0] + '.xml'\n",
    "    saveDir = os.path.dirname(sensorfile)\n",
    "    sensorP1XML = CreateXML(sensorP1, user, institution)\n",
    "    sensorP1XML.save(saveDir, name)\n",
    "\n",
    "if len(senDF.pointsP2):\n",
    "    sensorP2XML = CreateXML(sensorP2, user, institution)\n",
    "    sensorP2XML.save(saveDir, name)\n",
    "    \n",
    "if pcb.exists:\n",
    "    if len(pcbDF.pointsP1):\n",
    "        name = os.path.splitext(os.path.basename(pcbfile))[0] + '.xml'\n",
    "        saveDir = os.path.dirname(pcbfile)\n",
    "        pcbP1XML = CreateXML(pcbP1, user, institution)\n",
    "        pcbP1XML.save(saveDir, name)\n",
    "    \n",
    "    if len(pcbDF.pointsP2):\n",
    "        pcbP2XML = CreateXML(pcbP2, user, institution)\n",
    "        pcbP2XML.save(saveDir, name)"
   ]
  },
  {
   "cell_type": "code",
   "execution_count": null,
   "id": "887398e6",
   "metadata": {},
   "outputs": [],
   "source": []
  }
 ],
 "metadata": {
  "kernelspec": {
   "display_name": "Python 3 (ipykernel)",
   "language": "python",
   "name": "python3"
  },
  "language_info": {
   "codemirror_mode": {
    "name": "ipython",
    "version": 3
   },
   "file_extension": ".py",
   "mimetype": "text/x-python",
   "name": "python",
   "nbconvert_exporter": "python",
   "pygments_lexer": "ipython3",
   "version": "3.9.9"
  }
 },
 "nbformat": 4,
 "nbformat_minor": 5
}
