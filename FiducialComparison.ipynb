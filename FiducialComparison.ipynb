{
 "cells": [
  {
   "cell_type": "code",
   "execution_count": 448,
   "id": "b131633c",
   "metadata": {},
   "outputs": [
    {
     "name": "stdout",
     "output_type": "stream",
     "text": [
      "/Users/Matthew/Documents/SchoolWork/physics/GradNotes/ParticlePhysics/PostdocResearch/HGC/EstToolsSUSY/HGCStudies\n"
     ]
    }
   ],
   "source": [
    "import os\n",
    "workDir = os.getcwd()\n",
    "print(workDir)\n",
    "user = 'mkilpatr'"
   ]
  },
  {
   "cell_type": "code",
   "execution_count": 449,
   "id": "b7bc9a7b",
   "metadata": {},
   "outputs": [
    {
     "name": "stdout",
     "output_type": "stream",
     "text": [
      "FILEPATHS MAY BE WRONG!! CANNOT FIND PCB EXCEL FILE\n"
     ]
    }
   ],
   "source": [
    "import io\n",
    "import pandas as pd\n",
    "import numpy as np\n",
    "\n",
    "sensorfile = workDir + '/Fiducials/sensorfiducialtrialrun.xls'\n",
    "pcbfile = workDir + '/Fiducials/pcbfiducialtrialrun.xls'\n",
    "fiducialfile = workDir + '/Fiducials/GantryTrayFiducialData.xls'\n",
    "readPCB = False\n",
    "\n",
    "if os.path.exists(sensorfile):\n",
    "    dfs = pd.read_excel(sensorfile)\n",
    "    dfs = dfs.dropna(how='all')\n",
    "else:\n",
    "    print('FILEPATHS MAY BE WRONG!! CANNOT FIND SENSOR EXCEL FILE')\n",
    "    \n",
    "if os.path.exists(fiducialfile):\n",
    "    dff = pd.read_excel(fiducialfile)\n",
    "    dff = dff.dropna(how='all')\n",
    "else:\n",
    "    print('FILEPATHS MAY BE WRONG!! CANNOT FIND FIDUCIAL EXCEL FILE')\n",
    "\n",
    "if os.path.exists(pcbfile):\n",
    "    dfp = pd.read_excel(pcbfile)\n",
    "    dfp = dfp.dropna(how='all')\n",
    "    readPCB = True\n",
    "else:\n",
    "    print('FILEPATHS MAY BE WRONG!! CANNOT FIND PCB EXCEL FILE')"
   ]
  },
  {
   "cell_type": "code",
   "execution_count": 450,
   "id": "c93dd7a0",
   "metadata": {},
   "outputs": [],
   "source": [
    "def readComponentFiducials(df):\n",
    "    X = df.index[dfs['Unnamed: 3'] == 'X'].tolist()\n",
    "    Points = []\n",
    "    for x in X:\n",
    "        if 'Fiducial' in df['Unnamed: 2'][x]:\n",
    "            Points.append((float(df['Unnamed: 4'][x]), float(df['Unnamed: 4'][x + 1])))       \n",
    "\n",
    "    # Function to sort hte list by second item of tuple\n",
    "    def Sort_Tuple(tup): \n",
    "  \n",
    "        # reverse = True (Sorts in descending order for Y coordinate)\n",
    "        # reverse = None (Sorts in ascending order for X coordinate)\n",
    "        # key is set to sort using first or second element of \n",
    "        # sublist lambda has been used \n",
    "        tup.sort(key = lambda x: x[1], reverse=True)\n",
    "        tup1, tup2 = tup[:2], tup[2:]\n",
    "        tup1.sort(key = lambda x: x[0])\n",
    "        tup2.sort(key = lambda x: x[0])\n",
    "    \n",
    "        new = [tup1[0], tup2[0], tup1[1], tup2[1]]\n",
    "    \n",
    "        return new \n",
    "\n",
    "    Points = Sort_Tuple(Points)\n",
    "    return Points\n",
    "\n",
    "sPoints = readComponentFiducials(dfs)\n",
    "if readPCB:\n",
    "    pPoints = readComponentFiducials(dfp)"
   ]
  },
  {
   "cell_type": "code",
   "execution_count": 451,
   "id": "c4df1ada",
   "metadata": {},
   "outputs": [],
   "source": [
    "#Get index of all points that correspond to the two reference frames\n",
    "trayIdx = dff.index[dff['Unnamed: 2'] == 'TrayFiducial2Fine2.X'].tolist()[0]\n",
    "P1IdxCenter = dff.index[dff['Unnamed: 2'] == 'P1CenterPin.X'].tolist()[0]\n",
    "P1IdxOffCenter = dff.index[dff['Unnamed: 2'] == 'P1OffcenterPin.X'].tolist()[0]\n",
    "P2IdxCenter = dff.index[dff['Unnamed: 2'] == 'P2CenterPin.X'].tolist()[0]\n",
    "P2IdxOffCenter = dff.index[dff['Unnamed: 2'] == 'P2OffcenterPin.X'].tolist()[0]\n",
    "\n",
    "#Organize such that the Center is always the first element\n",
    "#Off center is always the second element\n",
    "trayPoints = [(0., 0.), (float(dff['Unnamed: 3'][trayIdx]), float(dff['Unnamed: 3'][trayIdx + 1]))]\n",
    "P1 = [(float(dff['Unnamed: 3'][P1IdxCenter]),    float(dff['Unnamed: 3'][P1IdxCenter + 1])), \n",
    "      (float(dff['Unnamed: 3'][P1IdxOffCenter]), float(dff['Unnamed: 3'][P1IdxOffCenter + 1]))]\n",
    "P2 = [(float(dff['Unnamed: 3'][P2IdxCenter]),    float(dff['Unnamed: 3'][P2IdxCenter + 1])), \n",
    "      (float(dff['Unnamed: 3'][P2IdxOffCenter]), float(dff['Unnamed: 3'][P2IdxOffCenter + 1]))]"
   ]
  },
  {
   "cell_type": "code",
   "execution_count": 452,
   "id": "ca47511f",
   "metadata": {},
   "outputs": [],
   "source": [
    "#Calculate the distance between two points or the origin\n",
    "def distance(tup):\n",
    "    if np.array(tup).size == 2:\n",
    "        return np.sqrt(((tup[0])**2) + ((tup[1])**2))\n",
    "    else:\n",
    "        return np.sqrt(((tup[1][0] - tup[0][0])**2) + ((tup[1][1] - tup[0][1])**2))\n",
    "\n",
    "#Using law of cosines we calculate the angle between the fiducials and the P1/P2 frames\n",
    "def angleOfFrames(Fiducial, baseplate):\n",
    "    f = distance(Fiducial)\n",
    "    b = distance(baseplate)\n",
    "    th1 = 0.\n",
    "    if (baseplate[0][0] - baseplate[1][0]) > 0.:\n",
    "        b1, b2 = (baseplate[0][0] - baseplate[1][0]), (baseplate[0][1] - baseplate[1][1])\n",
    "    else:\n",
    "        b1, b2 = (baseplate[1][0] - baseplate[0][0]), (baseplate[1][1] - baseplate[0][1])\n",
    "        \n",
    "    th1 = Fiducial[1][0]*b1 + Fiducial[1][1]*b2\n",
    "    theta = np.pi/2 - np.arccos((th1)/(f*b))\n",
    "    return theta\n",
    "\n",
    "#Using a rotation matrix transform the measurements of the points in the fiducial frame\n",
    "def transform(points, theta, origin):\n",
    "    c, s = np.cos(theta), np.sin(theta)\n",
    "    rotate = np.array(((c, -s), (s, c)))\n",
    "    return np.dot((points - origin), rotate.T)\n",
    "\n",
    "#Calculate the angle offset of the placement of the components\n",
    "#also get the center of the square that is made by the fiducial measurements\n",
    "def angleDeviation(coord):\n",
    "    rad = []\n",
    "    deg = []\n",
    "    for x in range(0, int(len(coord)/2)):\n",
    "        r = np.arctan2((coord[x*2 + 1][1] - coord[x*2][1]), (coord[x*2 + 1][0] - coord[x*2][0]))\n",
    "        rad.append(r)\n",
    "        deg.append(np.degrees(r))\n",
    "        \n",
    "    center = np.sum(coord, axis=0)/4\n",
    "    \n",
    "    return rad, deg, center"
   ]
  },
  {
   "cell_type": "code",
   "execution_count": 453,
   "id": "aa6584f6",
   "metadata": {},
   "outputs": [],
   "source": [
    "#Calculate the angle of the two tray positions P1, P2 with respect to the fiducials on the carrying tray\n",
    "angleP1 = angleOfFrames(trayPoints, P1)\n",
    "angleP2 = angleOfFrames(trayPoints, P2)\n",
    "\n",
    "#Transform the coordinates of the Sensor/PCB fiducial measurements to the tray position frame P1\n",
    "transformSensorP1 = transform(np.array(sPoints), angleP1, np.array(P1[0]))\n",
    "if readPCB:\n",
    "    transformPCBP1 = transform(np.array(pPoints), angleP1, np.array(P1[0]))\n",
    "\n",
    "#Transform the coordinates of the Sensor/PCB fiducial measurements to the tray position frame P2\n",
    "####NOTICE currently using the measurements from the P1 tray as a placeholder\n",
    "transformSensorP2 = transform(np.array(sPoints), angleP2, np.array(P2[0]))\n",
    "if readPCB:\n",
    "    transformPCBP2 = transform(np.array(pPoints), angleP2, np.array(P2[0]))"
   ]
  },
  {
   "cell_type": "code",
   "execution_count": 461,
   "id": "176af950",
   "metadata": {},
   "outputs": [],
   "source": [
    "#Calculate the angle offset (radians, degrees) of the sensor/PCB with respect to the P1 Tray\n",
    "#Calculate the X/Y center position of the sensor/PCB with respect to the P1 Tray\n",
    "radSensorP1, degSensorP1, centerSensorP1 = angleDeviation(transformSensorP1)\n",
    "if readPCB:\n",
    "    radPCBP1, degPCBP1, centerPCBP1 = angleDeviation(transformPCBP1)\n",
    "\n",
    "#Calculate the angle offset (radians, degrees) of the sensor/PCB with respect to the P2 Tray\n",
    "#Calculate the X/Y center position of the sensor/PCB with respect to the P2 Tray\n",
    "radSensorP2, degSensorP2, centerSensorP2 = angleDeviation(transformSensorP2)\n",
    "if readPCB:\n",
    "    radPCBP2, degPCBP2, centerPCBP2 = angleDeviation(transformPCBP2)\n",
    "    radPCB = {'P1': radPCBP1, 'P2': radPCBP2}\n",
    "    degPCB = {'P1': degPCBP1, 'P2': degPCBP2}\n",
    "    centerPCB = {'P1': distance(centerPCBP1), 'P2': distance(centerPCBP2)}\n",
    "    \n",
    "radSensor = {'P1': radSensorP1, 'P2': radSensorP2}\n",
    "degSensor = {'P1': degSensorP1, 'P2': degSensorP2}\n",
    "centerSensor = {'P1': distance(centerSensorP1), 'P2': distance(centerSensorP2)}"
   ]
  },
  {
   "cell_type": "code",
   "execution_count": 463,
   "id": "1845ecc0",
   "metadata": {},
   "outputs": [
    {
     "name": "stdout",
     "output_type": "stream",
     "text": [
      "The angle of the sensor is VERY BAD in position P1\n",
      "The angle of the sensor is VERY BAD in position P2\n"
     ]
    }
   ],
   "source": [
    "#Classify the placement of each component\n",
    "degrees = [89.5, 89.0, 88.0, 0.]\n",
    "Classify = ['GOOD', \"OK\", \"BAD\", \"VERY BAD\"]\n",
    "centers = [0.025, 0.050, 0.100, 5.0]\n",
    "place = ['P1', 'P2']\n",
    "\n",
    "angleSensorNotes = {'P1': '', 'P2': ''}\n",
    "anglePCBNotes = {'P1': '', 'P2': ''}\n",
    "centerSensorNotes = {'P1': '', 'P2': ''}\n",
    "centerPCBNotes = {'P1': '', 'P2': ''}\n",
    "for p in place:\n",
    "    for i, d in enumerate(degrees):\n",
    "        if abs(degSensor[p][0]) > degrees[i] or abs(degSensor[p][1]) > degrees[i]:\n",
    "            angleSensorNotes[p] = \"The angle of the sensor is \" + Classify[i] + \" in position \" + p\n",
    "        \n",
    "        if centerSensor[p] < centers[i]:\n",
    "            centerSensorNotes[p] = \"The placement of the sensor is \" + Classify[i] + \" in position \" + p\n",
    "        if readPCB:\n",
    "            if (abs(degPCB[p][0]) > degrees[i] or abs(degPCB[p][1]) > degrees[i]):\n",
    "                anglePCBNotes[p] = \"The angle of the PCB is \" + Classify[i] + ' in position ' + p\n",
    "            if centerSensor[p] < centers[i]:\n",
    "                centerPCBNotes[p] = \"The placement of the PCB is \" + Classify[i] + \" in position \" + p\n",
    "                \n",
    "    if 'BAD' in angleSensorNotes[p]:\n",
    "        print(angleSensorNotes[p])\n",
    "    if 'BAD' in anglePCBNotes[p]:\n",
    "        print(anglePCBNotes[p])"
   ]
  },
  {
   "cell_type": "code",
   "execution_count": null,
   "id": "284b29e2",
   "metadata": {},
   "outputs": [],
   "source": []
  },
  {
   "cell_type": "code",
   "execution_count": null,
   "id": "827d1df5",
   "metadata": {},
   "outputs": [],
   "source": []
  }
 ],
 "metadata": {
  "kernelspec": {
   "display_name": "Python 3 (ipykernel)",
   "language": "python",
   "name": "python3"
  },
  "language_info": {
   "codemirror_mode": {
    "name": "ipython",
    "version": 3
   },
   "file_extension": ".py",
   "mimetype": "text/x-python",
   "name": "python",
   "nbconvert_exporter": "python",
   "pygments_lexer": "ipython3",
   "version": "3.9.9"
  }
 },
 "nbformat": 4,
 "nbformat_minor": 5
}
