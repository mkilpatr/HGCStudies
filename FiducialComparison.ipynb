{
 "cells": [
  {
   "cell_type": "code",
   "execution_count": 8,
   "id": "b131633c",
   "metadata": {},
   "outputs": [
    {
     "name": "stdout",
     "output_type": "stream",
     "text": [
      "/Users/Matthew/Documents/SchoolWork/physics/GradNotes/ParticlePhysics/PostdocResearch/HGC/EstToolsSUSY/HGCStudies\n"
     ]
    }
   ],
   "source": [
    "import os\n",
    "workDir = os.getcwd()\n",
    "print(workDir)"
   ]
  },
  {
   "cell_type": "code",
   "execution_count": 232,
   "id": "b7bc9a7b",
   "metadata": {},
   "outputs": [],
   "source": [
    "import os\n",
    "import io\n",
    "import pandas as pd\n",
    "import numpy as np\n",
    "\n",
    "sensorfilename = workDir + '/Fiducials/sensorfiducialtrialrun.xls'\n",
    "fiducialfilename = workDir + '/Fiducials/GantryTrayFiducialData.xls'\n",
    "\n",
    "dfs = pd.read_excel(sensorfilename)\n",
    "dff = pd.read_excel(fiducialfilename)\n",
    "dfs = dfs.dropna(how='all')\n",
    "dff = dff.dropna(how='all')"
   ]
  },
  {
   "cell_type": "code",
   "execution_count": 233,
   "id": "c93dd7a0",
   "metadata": {},
   "outputs": [],
   "source": [
    "X = dfs.index[dfs['Unnamed: 3'] == 'X'].tolist()\n",
    "sPoints = []\n",
    "for x in X:\n",
    "    if 'Fiducial' in dfs['Unnamed: 2'][x]:\n",
    "        sPoints.append((float(dfs['Unnamed: 4'][x]), float(dfs['Unnamed: 4'][x + 1])))       \n",
    "\n",
    "# Function to sort hte list by second item of tuple\n",
    "def Sort_Tuple(tup): \n",
    "  \n",
    "    # reverse = True (Sorts in descending order for Y coordinate)\n",
    "    # reverse = None (Sorts in ascending order for X coordinate)\n",
    "    # key is set to sort using first or second element of \n",
    "    # sublist lambda has been used \n",
    "    tup.sort(key = lambda x: x[1], reverse=True)\n",
    "    tup.sort(key = lambda x: x[0])\n",
    "    return tup \n",
    "\n",
    "sPoints = Sort_Tuple(sPoints)"
   ]
  },
  {
   "cell_type": "code",
   "execution_count": 235,
   "id": "c4df1ada",
   "metadata": {},
   "outputs": [],
   "source": [
    "P1 = []\n",
    "P2 = []\n",
    "trayPoints = []\n",
    "X = dff.index.tolist()\n",
    "\n",
    "for x in X:\n",
    "    if dff['Unnamed: 2'][x] == 'TrayFiducial2Fine2.X':\n",
    "        trayPoints.append((float(0.), float(0.)))\n",
    "        trayPoints.append((float(dff['Unnamed: 3'][x]), float(dff['Unnamed: 3'][x + 1])))\n",
    "    elif 'X' in dff['Unnamed: 2'][x] and 'P1' in dff['Unnamed: 2'][x]:\n",
    "        P1.append((float(dff['Unnamed: 3'][x]), float(dff['Unnamed: 3'][x + 1])))\n",
    "    elif 'X' in dff['Unnamed: 2'][x] and 'P2' in dff['Unnamed: 2'][x]:\n",
    "        P2.append((float(dff['Unnamed: 3'][x]), float(dff['Unnamed: 3'][x + 1])))\n",
    "        \n",
    "#fPoints = Sort_Tuple(fPoints)"
   ]
  },
  {
   "cell_type": "code",
   "execution_count": 255,
   "id": "ca47511f",
   "metadata": {},
   "outputs": [],
   "source": [
    "def distance(tup):\n",
    "    r = np.sqrt(((tup[1][0] - tup[0][0])**2) + ((tup[1][1] - tup[0][1])**2))\n",
    "    return r\n",
    "    \n",
    "def angleOfFrames(Fiducial, baseplate):\n",
    "    f = distance(Fiducial)\n",
    "    b = distance(baseplate)\n",
    "    th1 = 0.\n",
    "    if (baseplate[0][0] - baseplate[1][0]) > 0.:\n",
    "        b1, b2 = (baseplate[0][0] - baseplate[1][0]), (baseplate[0][1] - baseplate[1][1])\n",
    "    else:\n",
    "        b1, b2 = (baseplate[1][0] - baseplate[0][0]), (baseplate[1][1] - baseplate[0][1])\n",
    "        \n",
    "    th1 = Fiducial[1][0]*b1 + Fiducial[1][1]*b2\n",
    "    theta = np.pi/2 - np.arccos((th1)/(f*b))\n",
    "    return theta\n",
    "\n",
    "def transform(points, theta, origin):\n",
    "    c, s = np.cos(theta), np.sin(theta)\n",
    "    rotate = np.array(((c, -s), (s, c)))\n",
    "    return np.dot((points - origin), rotate.T)\n",
    "\n",
    "def angleDeviation(coord):\n",
    "    rad = []\n",
    "    deg = []\n",
    "    for x in range(0, int(len(coord)/2)):\n",
    "        r = np.arctan2((coord[x + 2][0] - coord[x][0]), (coord[x + 2][1] - coord[x][1]))\n",
    "        rad.append(r)\n",
    "        deg.append(np.degrees(r))\n",
    "        \n",
    "    return rad, deg"
   ]
  },
  {
   "cell_type": "code",
   "execution_count": 251,
   "id": "aa6584f6",
   "metadata": {},
   "outputs": [],
   "source": [
    "angleP1 = angleOfFrames(trayPoints, P1)\n",
    "angleP2 = angleOfFrames(trayPoints, P2)\n",
    "transformP1 = transform(np.array(sPoints), angleP1, np.array(P1[0]))\n",
    "#transform(np.array(sPoints), angleP2, np.array(P2[0]))"
   ]
  },
  {
   "cell_type": "code",
   "execution_count": 256,
   "id": "176af950",
   "metadata": {},
   "outputs": [
    {
     "ename": "IndexError",
     "evalue": "index 4 is out of bounds for axis 0 with size 4",
     "output_type": "error",
     "traceback": [
      "\u001b[0;31m---------------------------------------------------------------------------\u001b[0m",
      "\u001b[0;31mIndexError\u001b[0m                                Traceback (most recent call last)",
      "\u001b[0;32m/var/folders/r6/6y5ry5195251q161q2_g7z8h0000gp/T/ipykernel_96518/1333525745.py\u001b[0m in \u001b[0;36m<module>\u001b[0;34m\u001b[0m\n\u001b[0;32m----> 1\u001b[0;31m \u001b[0mradP1\u001b[0m\u001b[0;34m,\u001b[0m \u001b[0mdegP1\u001b[0m \u001b[0;34m=\u001b[0m \u001b[0mangleDeviation\u001b[0m\u001b[0;34m(\u001b[0m\u001b[0mtransformP1\u001b[0m\u001b[0;34m)\u001b[0m\u001b[0;34m\u001b[0m\u001b[0;34m\u001b[0m\u001b[0m\n\u001b[0m\u001b[1;32m      2\u001b[0m \u001b[0mprint\u001b[0m\u001b[0;34m(\u001b[0m\u001b[0mradP1\u001b[0m\u001b[0;34m)\u001b[0m\u001b[0;34m\u001b[0m\u001b[0;34m\u001b[0m\u001b[0m\n\u001b[1;32m      3\u001b[0m \u001b[0mprint\u001b[0m\u001b[0;34m(\u001b[0m\u001b[0mdegP1\u001b[0m\u001b[0;34m)\u001b[0m\u001b[0;34m\u001b[0m\u001b[0;34m\u001b[0m\u001b[0m\n",
      "\u001b[0;32m/var/folders/r6/6y5ry5195251q161q2_g7z8h0000gp/T/ipykernel_96518/2613765487.py\u001b[0m in \u001b[0;36mangleDeviation\u001b[0;34m(coord)\u001b[0m\n\u001b[1;32m     25\u001b[0m     \u001b[0mdeg\u001b[0m \u001b[0;34m=\u001b[0m \u001b[0;34m[\u001b[0m\u001b[0;34m]\u001b[0m\u001b[0;34m\u001b[0m\u001b[0;34m\u001b[0m\u001b[0m\n\u001b[1;32m     26\u001b[0m     \u001b[0;32mfor\u001b[0m \u001b[0mx\u001b[0m \u001b[0;32min\u001b[0m \u001b[0mrange\u001b[0m\u001b[0;34m(\u001b[0m\u001b[0;36m0\u001b[0m\u001b[0;34m,\u001b[0m \u001b[0mint\u001b[0m\u001b[0;34m(\u001b[0m\u001b[0mlen\u001b[0m\u001b[0;34m(\u001b[0m\u001b[0mcoord\u001b[0m\u001b[0;34m)\u001b[0m\u001b[0;34m/\u001b[0m\u001b[0;36m2\u001b[0m\u001b[0;34m)\u001b[0m\u001b[0;34m)\u001b[0m\u001b[0;34m:\u001b[0m\u001b[0;34m\u001b[0m\u001b[0;34m\u001b[0m\u001b[0m\n\u001b[0;32m---> 27\u001b[0;31m         \u001b[0mr\u001b[0m \u001b[0;34m=\u001b[0m \u001b[0mnp\u001b[0m\u001b[0;34m.\u001b[0m\u001b[0marctan2\u001b[0m\u001b[0;34m(\u001b[0m\u001b[0;34m(\u001b[0m\u001b[0mcoord\u001b[0m\u001b[0;34m[\u001b[0m\u001b[0mx\u001b[0m\u001b[0;34m*\u001b[0m\u001b[0;36m2\u001b[0m \u001b[0;34m+\u001b[0m \u001b[0;36m2\u001b[0m\u001b[0;34m]\u001b[0m\u001b[0;34m[\u001b[0m\u001b[0;36m0\u001b[0m\u001b[0;34m]\u001b[0m \u001b[0;34m-\u001b[0m \u001b[0mcoord\u001b[0m\u001b[0;34m[\u001b[0m\u001b[0mx\u001b[0m\u001b[0;34m*\u001b[0m\u001b[0;36m2\u001b[0m\u001b[0;34m]\u001b[0m\u001b[0;34m[\u001b[0m\u001b[0;36m0\u001b[0m\u001b[0;34m]\u001b[0m\u001b[0;34m)\u001b[0m\u001b[0;34m,\u001b[0m \u001b[0;34m(\u001b[0m\u001b[0mcoord\u001b[0m\u001b[0;34m[\u001b[0m\u001b[0mx\u001b[0m\u001b[0;34m*\u001b[0m\u001b[0;36m2\u001b[0m \u001b[0;34m+\u001b[0m \u001b[0;36m2\u001b[0m\u001b[0;34m]\u001b[0m\u001b[0;34m[\u001b[0m\u001b[0;36m1\u001b[0m\u001b[0;34m]\u001b[0m \u001b[0;34m-\u001b[0m \u001b[0mcoord\u001b[0m\u001b[0;34m[\u001b[0m\u001b[0mx\u001b[0m\u001b[0;34m*\u001b[0m\u001b[0;36m2\u001b[0m\u001b[0;34m]\u001b[0m\u001b[0;34m[\u001b[0m\u001b[0;36m1\u001b[0m\u001b[0;34m]\u001b[0m\u001b[0;34m)\u001b[0m\u001b[0;34m)\u001b[0m\u001b[0;34m\u001b[0m\u001b[0;34m\u001b[0m\u001b[0m\n\u001b[0m\u001b[1;32m     28\u001b[0m         \u001b[0mrad\u001b[0m\u001b[0;34m.\u001b[0m\u001b[0mappend\u001b[0m\u001b[0;34m(\u001b[0m\u001b[0mr\u001b[0m\u001b[0;34m)\u001b[0m\u001b[0;34m\u001b[0m\u001b[0;34m\u001b[0m\u001b[0m\n\u001b[1;32m     29\u001b[0m         \u001b[0mdeg\u001b[0m\u001b[0;34m.\u001b[0m\u001b[0mappend\u001b[0m\u001b[0;34m(\u001b[0m\u001b[0mnp\u001b[0m\u001b[0;34m.\u001b[0m\u001b[0mdegrees\u001b[0m\u001b[0;34m(\u001b[0m\u001b[0mr\u001b[0m\u001b[0;34m)\u001b[0m\u001b[0;34m)\u001b[0m\u001b[0;34m\u001b[0m\u001b[0;34m\u001b[0m\u001b[0m\n",
      "\u001b[0;31mIndexError\u001b[0m: index 4 is out of bounds for axis 0 with size 4"
     ]
    }
   ],
   "source": [
    "radP1, degP1 = angleDeviation(transformP1)\n",
    "print(radP1)\n",
    "print(degP1)"
   ]
  },
  {
   "cell_type": "code",
   "execution_count": null,
   "id": "ab1aa9cd",
   "metadata": {},
   "outputs": [],
   "source": []
  }
 ],
 "metadata": {
  "kernelspec": {
   "display_name": "Python 3 (ipykernel)",
   "language": "python",
   "name": "python3"
  },
  "language_info": {
   "codemirror_mode": {
    "name": "ipython",
    "version": 3
   },
   "file_extension": ".py",
   "mimetype": "text/x-python",
   "name": "python",
   "nbconvert_exporter": "python",
   "pygments_lexer": "ipython3",
   "version": "3.9.9"
  }
 },
 "nbformat": 4,
 "nbformat_minor": 5
}
