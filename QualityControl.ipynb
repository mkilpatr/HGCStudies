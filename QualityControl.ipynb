{
 "cells": [
  {
   "cell_type": "code",
   "execution_count": 1,
   "id": "6915f94d",
   "metadata": {},
   "outputs": [],
   "source": [
    "%run TransformCoordinates.ipynb\n",
    "\n",
    "class QualityControl(TransformCoordinates):\n",
    "    \n",
    "    def __init__(self, tray, position, points, trayPosition):\n",
    "        TransformCoordinates.__init__(self, tray, position, points)\n",
    "        self.trayPosition = trayPosition\n",
    "        self.degrees = [89.5, 89.0, 88.0, 0.]\n",
    "        self.classify = {'1': 'GOOD', '2': 'OK', '3': 'BAD', '4': 'VERY BAD'}\n",
    "        self.centers = [0.025, 0.050, 0.100, 10.0]\n",
    "        self.finalRating = ''\n",
    "        self.angleNotes = ''\n",
    "        self.centerNotes = ''\n",
    "        \n",
    "    def angleQuality(self):\n",
    "        self.degQC = -1\n",
    "        for i, d in enumerate(self.degrees):\n",
    "            if abs(self.deg[0]) > d or abs(self.deg[1]) > d:\n",
    "                self.angleNotes = \"The angle of the sensor is \" + self.classify[str(i)] + \" in position \" + self.trayPosition\n",
    "                self.degQC = i\n",
    "        \n",
    "    def positionQuality(self):\n",
    "        self.posQC = -1\n",
    "        for i, p in enumerate(self.centers):\n",
    "            if self.centerPosition < p:\n",
    "                self.centerNotes = \"The placement of the sensor is \" + self.classify[str(i)] + \" in position \" + self.trayPosition\n",
    "                self.posQC = i\n",
    "                \n",
    "    def Rating(self):\n",
    "        self.angleQuality()\n",
    "        self.positionQuality()\n",
    "        rate = max(self.degQC, self.posQC)\n",
    "        self.finalRating = self.classify[str(rate)]\n",
    "        \n",
    "        if 'BAD' in self.angleNotes:\n",
    "            print(self.angleNotes)\n",
    "        if 'BAD' in self.centerNotes:\n",
    "            print(self.centerNotes)"
   ]
  },
  {
   "cell_type": "code",
   "execution_count": null,
   "id": "dab3ed58",
   "metadata": {},
   "outputs": [],
   "source": []
  }
 ],
 "metadata": {
  "kernelspec": {
   "display_name": "Python 3 (ipykernel)",
   "language": "python",
   "name": "python3"
  },
  "language_info": {
   "codemirror_mode": {
    "name": "ipython",
    "version": 3
   },
   "file_extension": ".py",
   "mimetype": "text/x-python",
   "name": "python",
   "nbconvert_exporter": "python",
   "pygments_lexer": "ipython3",
   "version": "3.9.9"
  }
 },
 "nbformat": 4,
 "nbformat_minor": 5
}
