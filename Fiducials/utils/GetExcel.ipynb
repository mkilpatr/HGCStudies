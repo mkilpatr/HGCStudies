{
 "cells": [
  {
   "cell_type": "code",
   "execution_count": 1,
   "id": "9520bcb0",
   "metadata": {},
   "outputs": [],
   "source": [
    "import io\n",
    "import os\n",
    "import pandas as pd\n",
    "\n",
    "class GetExcel:\n",
    "    \n",
    "    def __init__(self, file, exists = True, df = []):\n",
    "        self.file = file\n",
    "        self.exists = exists\n",
    "        self.df = []\n",
    "\n",
    "    def checkExists(self, file):\n",
    "        self.exists = os.path.exists(self.file)\n",
    "        return self.exists\n",
    "    \n",
    "    def read(self):\n",
    "        if self.checkExists(self.file):\n",
    "            self.df = pd.read_excel(self.file)\n",
    "            self.df = self.df.dropna(how='all')\n",
    "        else:\n",
    "            print('FILEPATHS MAY BE WRONG!! CANNOT FIND ' + self.file)"
   ]
  },
  {
   "cell_type": "code",
   "execution_count": null,
   "id": "91319607",
   "metadata": {},
   "outputs": [],
   "source": []
  }
 ],
 "metadata": {
  "kernelspec": {
   "display_name": "Python 3 (ipykernel)",
   "language": "python",
   "name": "python3"
  },
  "language_info": {
   "codemirror_mode": {
    "name": "ipython",
    "version": 3
   },
   "file_extension": ".py",
   "mimetype": "text/x-python",
   "name": "python",
   "nbconvert_exporter": "python",
   "pygments_lexer": "ipython3",
   "version": "3.9.9"
  }
 },
 "nbformat": 4,
 "nbformat_minor": 5
}
