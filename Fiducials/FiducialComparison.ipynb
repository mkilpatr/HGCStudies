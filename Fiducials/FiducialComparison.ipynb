{
 "cells": [
  {
   "cell_type": "code",
   "execution_count": 1,
   "id": "b131633c",
   "metadata": {},
   "outputs": [
    {
     "name": "stdout",
     "output_type": "stream",
     "text": [
      "/Users/Matthew/Documents/SchoolWork/physics/GradNotes/ParticlePhysics/PostdocResearch/HGC/EstToolsSUSY/HGCStudies/Fiducials\n"
     ]
    }
   ],
   "source": [
    "import os\n",
    "workDir = os.getcwd()\n",
    "user = 'mkilpatr' #CERN user ID\n",
    "institution = 'UCSB' #UCSB\n",
    "print(workDir)"
   ]
  },
  {
   "cell_type": "code",
   "execution_count": 2,
   "id": "b7bc9a7b",
   "metadata": {},
   "outputs": [
    {
     "name": "stdout",
     "output_type": "stream",
     "text": [
      "FILEPATHS MAY BE WRONG!! CANNOT FIND /Users/Matthew/Documents/SchoolWork/physics/GradNotes/ParticlePhysics/PostdocResearch/HGC/EstToolsSUSY/HGCStudies/Fiducials/data/pcbfiducialtrialrun.xls\n"
     ]
    }
   ],
   "source": [
    "%run utils/GetExcel.ipynb\n",
    "\n",
    "#The sensor file can contain the fiducials of the sensor, but can also have the component heights \n",
    "#for sensor in location P1 or P2.\n",
    "#Methods can run either way! \n",
    "\n",
    "pcbfile = workDir + '/data/pcbfiducialtrialrun.xls'\n",
    "fiducialfile = workDir + '/data/GantryTrayFiducialData.xls'\n",
    "#sensorfile = workDir + '/data/moduleHeights.xls'\n",
    "sensorfile = workDir + '/data/Trial_CuW_300_bothLocations.xls'\n",
    "\n",
    "sensor = GetExcel(sensorfile, True, [])\n",
    "sensor.read()\n",
    "#print(sensor.df.head())\n",
    "\n",
    "fiducial = GetExcel(fiducialfile, True, [])\n",
    "fiducial.read()\n",
    "#print(fiducial.df.head())\n",
    "\n",
    "pcb = GetExcel(pcbfile, True, [])\n",
    "pcb.read()\n",
    "#print(pcb.df.head())"
   ]
  },
  {
   "cell_type": "code",
   "execution_count": 3,
   "id": "c93dd7a0",
   "metadata": {},
   "outputs": [],
   "source": [
    "%run utils/ReadDataframe.ipynb\n",
    "\n",
    "if sensor.exists:\n",
    "    senDF = ReadDataframe(sensor.df, sensorfile)\n",
    "    senDF.readComponentFiducials()\n",
    "    senDF.readComponentHeights()\n",
    "\n",
    "if fiducial.exists:\n",
    "    fidDF = ReadDataframe(fiducial.df, fiducialfile)\n",
    "    fidDF.readTrayFiducials()\n",
    "\n",
    "if pcb.exists:\n",
    "    pcbDF = ReadDataframe(pcb.df, pcbfile)\n",
    "    pcbDF.readComponentFiducials()\n",
    "    pcbDF.readComponentHeights()"
   ]
  },
  {
   "cell_type": "code",
   "execution_count": 4,
   "id": "a31fbdbd",
   "metadata": {},
   "outputs": [
    {
     "name": "stdout",
     "output_type": "stream",
     "text": [
      "\u001b[30mThe module/component in P1 has completed QC!\n",
      "Rotation --> Left Fiducial: 90.292 degrees, Right Fiducial: 90.291 degrees\n",
      "The angle of the sensor in position P1 is \u001b[32mGREEN\u001b[30m. \n",
      "Placement --> (x,y) = (0.075, -0.006) mm\n",
      "The placement of the sensor in position P1 is \u001b[33mYELLOW\u001b[30m. \n",
      "Height --> 1.588 - (0.136) + (0.115) mm\n",
      "The mean heights of the module in position P1 are \u001b[32mGREEN\u001b[30m. \n",
      "The minimum difference in height of the module in position P1 is \u001b[31mRED\u001b[30m. \n",
      "The maximum difference in height of the module in position P1 is \u001b[31mRED\u001b[30m. \n",
      "\n",
      "The FINAL rating of the module in position P1 is \u001b[31mRED\u001b[30m.\n",
      "\n",
      "\u001b[30mThe module/component in P2 has completed QC!\n",
      "Rotation --> Left Fiducial: 89.934 degrees, Right Fiducial: 89.934 degrees\n",
      "The angle of the sensor in position P2 is \u001b[32mGREEN\u001b[30m. \n",
      "Placement --> (x,y) = (-0.034, 0.017) mm\n",
      "The placement of the sensor in position P2 is \u001b[32mGREEN\u001b[30m. \n",
      "Height --> 1.659 - (0.307) + (0.263) mm\n",
      "The mean heights of the module in position P2 are \u001b[33mYELLOW\u001b[30m. \n",
      "The minimum difference in height of the module in position P2 is \u001b[31mRED\u001b[30m. \n",
      "The maximum difference in height of the module in position P2 is \u001b[31mRED\u001b[30m. \n",
      "\n",
      "The FINAL rating of the module in position P2 is \u001b[31mRED\u001b[30m.\n",
      "\n"
     ]
    }
   ],
   "source": [
    "%run utils/QualityControl.ipynb\n",
    "\n",
    "if sensor.exists:\n",
    "    sensorP1 = QualityControl(fidDF, senDF, 'P1')\n",
    "    if len(senDF.pointsP1): sensorP1.runTransform()\n",
    "    if len(senDF.heightP1): sensorP1.runHeights()\n",
    "    sensorP1.rating()\n",
    "    print(sensorP1)\n",
    "\n",
    "    sensorP2 = QualityControl(fidDF, senDF, 'P2')\n",
    "    if len(senDF.pointsP2): sensorP2.runTransform()\n",
    "    if len(senDF.heightP2): sensorP2.runHeights()\n",
    "    sensorP2.rating()\n",
    "    print(sensorP2)\n",
    "    \n",
    "if pcb.exists:\n",
    "    pcbP1 = QualityControl(fidDF, pcbDF, 'P1')\n",
    "    if len(pcbDF.pointsP1): pcbP1.runTransform()\n",
    "    if len(pcbDF.heightP1): pcbP1.runHeights()\n",
    "    pcbP1.rating()\n",
    "    print(pcbP1)\n",
    "\n",
    "    pcbP2 = QualityControl(fidDF, pcbDF, 'P2')\n",
    "    if len(pcbDF.pointsP2): pcbP2.runTransform()\n",
    "    if len(pcbDF.heightP2): pcbP2.runHeights()\n",
    "    pcbP2.rating()\n",
    "    print(pcbP2)"
   ]
  },
  {
   "cell_type": "code",
   "execution_count": 5,
   "id": "fc917f93",
   "metadata": {},
   "outputs": [
    {
     "name": "stdout",
     "output_type": "stream",
     "text": [
      "Saving UPLOAD XML file to  /Users/Matthew/Documents/SchoolWork/physics/GradNotes/ParticlePhysics/PostdocResearch/HGC/EstToolsSUSY/HGCStudies/Fiducials/data/Trial_CuW_300_bothLocations_P1_upload.xml\n",
      "Saving UPLOAD XML file to  /Users/Matthew/Documents/SchoolWork/physics/GradNotes/ParticlePhysics/PostdocResearch/HGC/EstToolsSUSY/HGCStudies/Fiducials/data/Trial_CuW_300_bothLocations_P2_upload.xml\n"
     ]
    }
   ],
   "source": [
    "%run utils/CreateXML.ipynb\n",
    "\n",
    "if sensorP1.finalRating != '':\n",
    "    sensorP1XML = CreateXML(sensorP1, user, institution)\n",
    "    sensorP1XML.save(senDF.dir, senDF.name + '_P1.xml')\n",
    "\n",
    "if sensorP2.finalRating != '':\n",
    "    sensorP2XML = CreateXML(sensorP2, user, institution)\n",
    "    sensorP2XML.save(senDF.dir, senDF.name + '_P2.xml')\n",
    "    \n",
    "if pcb.exists:\n",
    "    if pcbP1.finalRating != '':\n",
    "        pcbP1XML = CreateXML(pcbP1, user, institution)\n",
    "        pcbP1XML.save(pcbDF.dir, pcbDF.name + '_P1.xml')\n",
    "    \n",
    "    if pcbP2.finalRating != '':\n",
    "        pcbP2XML = CreateXML(pcbP2, user, institution)\n",
    "        pcbP2XML.save(pcbDF.dir, pcbDF.name + '_P2.xml')"
   ]
  }
 ],
 "metadata": {
  "kernelspec": {
   "display_name": "Python 3 (ipykernel)",
   "language": "python",
   "name": "python3"
  },
  "language_info": {
   "codemirror_mode": {
    "name": "ipython",
    "version": 3
   },
   "file_extension": ".py",
   "mimetype": "text/x-python",
   "name": "python",
   "nbconvert_exporter": "python",
   "pygments_lexer": "ipython3",
   "version": "3.9.9"
  }
 },
 "nbformat": 4,
 "nbformat_minor": 5
}
