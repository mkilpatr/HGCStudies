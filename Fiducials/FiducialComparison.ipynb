{
 "cells": [
  {
   "cell_type": "code",
   "execution_count": 1,
   "id": "b131633c",
   "metadata": {},
   "outputs": [
    {
     "name": "stdout",
     "output_type": "stream",
     "text": [
      "/Users/Matthew/Documents/SchoolWork/physics/GradNotes/ParticlePhysics/PostdocResearch/HGC/EstToolsSUSY/HGCStudies/Fiducials\n"
     ]
    }
   ],
   "source": [
    "import os\n",
    "workDir = os.getcwd()\n",
    "user = 'mkilpatr' #CERN user ID\n",
    "institution = 'UCSB' #UCSB\n",
    "print(workDir)"
   ]
  },
  {
   "cell_type": "code",
   "execution_count": 2,
   "id": "b7bc9a7b",
   "metadata": {},
   "outputs": [
    {
     "name": "stdout",
     "output_type": "stream",
     "text": [
      "    Unnamed: 0       Unnamed: 1         Unnamed: 2 Unnamed: 3 Unnamed: 4  \\\n",
      "3          NaN         Routine1             mm  Ɵ°        NaN        NaN   \n",
      "6          NaN              NaN            Feature  Attribute    Nominal   \n",
      "7          NaN              NaN     PlanePosition1     Points          0   \n",
      "9          NaN  Finder / Target                  #          X          Y   \n",
      "13         NaN              NaN  P1SensorFiducial1          X    135.938   \n",
      "\n",
      "   Unnamed: 5  Unnamed: 6  Unnamed: 7 Unnamed: 8 Unnamed: 9  \n",
      "3         NaN         NaN         NaN        NaN        NaN  \n",
      "6      Actual  Upper Tol.  Lower Tol.   Graphics        NaN  \n",
      "7           6           0           0        NaN        NaN  \n",
      "9           Z           I           J          K       Dev.  \n",
      "13    135.942       0.000       0.000        NaN        NaN  \n",
      "FILEPATHS MAY BE WRONG!! CANNOT FIND /Users/Matthew/Documents/SchoolWork/physics/GradNotes/ParticlePhysics/PostdocResearch/HGC/EstToolsSUSY/HGCStudies/Fiducials/data/pcbfiducialtrialrun.xls\n"
     ]
    }
   ],
   "source": [
    "%run utils/GetExcel.ipynb\n",
    "\n",
    "#The sensor file can contain the fiducials of the sensor, but can also have the component heights\n",
    "#Methods can run either way!\n",
    "\n",
    "sensorfile = workDir + '/data/sensorfiducialtrialrun.xls'\n",
    "pcbfile = workDir + '/data/pcbfiducialtrialrun.xls'\n",
    "fiducialfile = workDir + '/data/GantryTrayFiducialData.xls'\n",
    "sensorfile = workDir + '/data/moduleHeights.xls'\n",
    "\n",
    "sensor = GetExcel(sensorfile, True, [])\n",
    "sensor.read()\n",
    "print(sensor.df.head())\n",
    "\n",
    "fiducial = GetExcel(fiducialfile, True, [])\n",
    "fiducial.read()\n",
    "#print(fiducial.df)\n",
    "\n",
    "pcb = GetExcel(pcbfile, True, [])\n",
    "pcb.read()"
   ]
  },
  {
   "cell_type": "code",
   "execution_count": 3,
   "id": "c93dd7a0",
   "metadata": {},
   "outputs": [],
   "source": [
    "%run utils/ReadDataframe.ipynb\n",
    "\n",
    "if sensor.exists:\n",
    "    senDF = ReadDataframe(sensor.df)\n",
    "    senDF.readComponentFiducials()\n",
    "    senDF.readComponentHeights()\n",
    "\n",
    "if fiducial.exists:\n",
    "    fidDF = ReadDataframe(fiducial.df)\n",
    "    fidDF.readTrayFiducials()\n",
    "\n",
    "if pcb.exists:\n",
    "    pcbDF = ReadDataframe(pcb.df)\n",
    "    pcbDF.readComponentFiducials()\n",
    "    pcbDF.readComponentHeights()"
   ]
  },
  {
   "cell_type": "code",
   "execution_count": 4,
   "id": "a31fbdbd",
   "metadata": {},
   "outputs": [
    {
     "name": "stdout",
     "output_type": "stream",
     "text": [
      "\u001b[30mThe module/component in P1 has completed QC!\n",
      "Rotation --> Left Fiducial: 90.697 degrees, Right Fiducial: 90.695 degrees\n",
      "The angle of the sensor in position P1 is YELLOW. \n",
      "Placement --> (x,y) = (0.117, -0.096) mm\n",
      "The placement of the sensor in position P1 is RED. \n",
      "Height --> 10.390 + (0.102) - (0.115) mm\n",
      "The mean heights of the module in position P1 are RED. \n",
      "The minimum height of the module in position P1 is RED. \n",
      "The maximum height of the module in position P1 is RED. \n",
      "\n",
      "The FINAL rating of the module in position P1 is RED.\n",
      "\n"
     ]
    }
   ],
   "source": [
    "%run utils/QualityControl.ipynb\n",
    "\n",
    "sensorP1 = QualityControl(fidDF, senDF, 'P1')\n",
    "if len(senDF.pointsP1): sensorP1.runTransform()\n",
    "if len(senDF.heights): sensorP1.runHeights()\n",
    "sensorP1.rating()\n",
    "print(sensorP1)\n",
    "\n",
    "sensorP2 = QualityControl(fidDF, senDF, 'P2')\n",
    "if len(senDF.pointsP2): sensorP2.runTransform()\n",
    "if len(senDF.heights): sensorP2.runHeights()\n",
    "sensorP2.rating()\n",
    "    \n",
    "if pcb.exists:\n",
    "    pcbP1 = QualityControl(fidDF, pcbDF, 'P1')\n",
    "    if len(pcbDF.pointsP1): pcbP1.runTransform()\n",
    "    if len(pcbDF.heights): pcbP1.runHeights()\n",
    "    pcbP1.rating()\n",
    "\n",
    "    pcbP2 = QualityControl(fidDF, pcbDF, 'P2')\n",
    "    if len(pcbDF.pointsP2): pcbP2.runTransform()\n",
    "    if len(pcbDF.heights): pcbP2.runHeights()\n",
    "    pcbP2.rating()"
   ]
  },
  {
   "cell_type": "code",
   "execution_count": 5,
   "id": "fc917f93",
   "metadata": {},
   "outputs": [
    {
     "name": "stdout",
     "output_type": "stream",
     "text": [
      "Saving UPLOAD XML file to  /Users/Matthew/Documents/SchoolWork/physics/GradNotes/ParticlePhysics/PostdocResearch/HGC/EstToolsSUSY/HGCStudies/Fiducials/data/moduleHeights_upload.xml\n"
     ]
    }
   ],
   "source": [
    "%run utils/CreateXML.ipynb\n",
    "\n",
    "if len(senDF.pointsP1):\n",
    "    name = os.path.splitext(os.path.basename(sensorfile))[0] + '.xml'\n",
    "    saveDir = os.path.dirname(sensorfile)\n",
    "    sensorP1XML = CreateXML(sensorP1, user, institution)\n",
    "    sensorP1XML.save(saveDir, name)\n",
    "\n",
    "if len(senDF.pointsP2):\n",
    "    sensorP2XML = CreateXML(sensorP2, user, institution)\n",
    "    sensorP2XML.save(saveDir, name)\n",
    "    \n",
    "if pcb.exists:\n",
    "    if len(pcbDF.pointsP1):\n",
    "        name = os.path.splitext(os.path.basename(pcbfile))[0] + '.xml'\n",
    "        saveDir = os.path.dirname(pcbfile)\n",
    "        pcbP1XML = CreateXML(pcbP1, user, institution)\n",
    "        pcbP1XML.save(saveDir, name)\n",
    "    \n",
    "    if len(pcbDF.pointsP2):\n",
    "        pcbP2XML = CreateXML(pcbP2, user, institution)\n",
    "        pcbP2XML.save(saveDir, name)"
   ]
  }
 ],
 "metadata": {
  "kernelspec": {
   "display_name": "Python 3 (ipykernel)",
   "language": "python",
   "name": "python3"
  },
  "language_info": {
   "codemirror_mode": {
    "name": "ipython",
    "version": 3
   },
   "file_extension": ".py",
   "mimetype": "text/x-python",
   "name": "python",
   "nbconvert_exporter": "python",
   "pygments_lexer": "ipython3",
   "version": "3.9.9"
  }
 },
 "nbformat": 4,
 "nbformat_minor": 5
}
