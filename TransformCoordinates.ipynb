{
 "cells": [
  {
   "cell_type": "code",
   "execution_count": 1,
   "id": "7082b191",
   "metadata": {},
   "outputs": [],
   "source": [
    "import numpy as np\n",
    "\n",
    "class TransformCoordinates:\n",
    "    \n",
    "    def __init__(self, tray, position, points):\n",
    "        self.tray = tray\n",
    "        self.position = position\n",
    "        self.points = np.array(points)\n",
    "        self.rad = []\n",
    "        self.deg = []\n",
    "        self.center = []\n",
    "        self.centerPosition = 0.\n",
    "        self.newPoints = []\n",
    "        \n",
    "    #Calculate the distance between two points or the origin\n",
    "    def distance(self, tup):\n",
    "        if np.array(tup).size == 2:\n",
    "            return np.sqrt(((tup[0])**2) + ((tup[1])**2))\n",
    "        else:\n",
    "            return np.sqrt(((tup[1][0] - tup[0][0])**2) + ((tup[1][1] - tup[0][1])**2))\n",
    "\n",
    "    #Using law of cosines we calculate the angle between the fiducials and the P1/P2 frames\n",
    "    def angleOfFrames(self, Fiducial, baseplate):\n",
    "        f = self.distance(Fiducial)\n",
    "        b = self.distance(baseplate)\n",
    "        th1 = 0.\n",
    "        if (baseplate[0][0] - baseplate[1][0]) > 0.:\n",
    "            b1, b2 = (baseplate[0][0] - baseplate[1][0]), (baseplate[0][1] - baseplate[1][1])\n",
    "        else:\n",
    "            b1, b2 = (baseplate[1][0] - baseplate[0][0]), (baseplate[1][1] - baseplate[0][1])\n",
    "\n",
    "        th1 = Fiducial[1][0]*b1 + Fiducial[1][1]*b2\n",
    "        theta = np.pi/2 - np.arccos((th1)/(f*b))\n",
    "        return theta\n",
    "\n",
    "    #Using a rotation matrix transform the measurements of the points in the fiducial frame\n",
    "    def transform(self):\n",
    "        theta = self.angleOfFrames(self.tray, self.position)\n",
    "        c, s = np.cos(theta), np.sin(theta)\n",
    "        rotate = np.array(((c, -s), (s, c)))\n",
    "        self.newPoints = np.dot((self.points - np.array(self.position)[0]), rotate.T)\n",
    "\n",
    "    #Calculate the angle offset of the placement of the components\n",
    "    #also get the center of the square that is made by the fiducial measurements\n",
    "    def RunTransform(self):\n",
    "        self.transform()\n",
    "        for x in range(0, int(len(self.newPoints)/2)):\n",
    "            r = np.arctan2((self.newPoints[x*2 + 1][1] - self.newPoints[x*2][1]), \n",
    "                           (self.newPoints[x*2 + 1][0] - self.newPoints[x*2][0]))\n",
    "            self.rad.append(r)\n",
    "            self.deg.append(np.degrees(r))\n",
    "\n",
    "        self.center = np.sum(self.newPoints, axis=0)/4\n",
    "        self.centerPosition = self.distance(self.center)"
   ]
  },
  {
   "cell_type": "code",
   "execution_count": null,
   "id": "6fb02a8e",
   "metadata": {},
   "outputs": [],
   "source": []
  }
 ],
 "metadata": {
  "kernelspec": {
   "display_name": "Python 3 (ipykernel)",
   "language": "python",
   "name": "python3"
  },
  "language_info": {
   "codemirror_mode": {
    "name": "ipython",
    "version": 3
   },
   "file_extension": ".py",
   "mimetype": "text/x-python",
   "name": "python",
   "nbconvert_exporter": "python",
   "pygments_lexer": "ipython3",
   "version": "3.9.9"
  }
 },
 "nbformat": 4,
 "nbformat_minor": 5
}
